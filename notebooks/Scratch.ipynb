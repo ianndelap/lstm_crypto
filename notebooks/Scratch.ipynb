{
 "cells": [
  {
   "cell_type": "code",
   "execution_count": 2,
   "id": "6ac74c13",
   "metadata": {},
   "outputs": [],
   "source": [
    "import pandas as pd\n",
    "from datetime import datetime as dt"
   ]
  },
  {
   "cell_type": "code",
   "execution_count": 5,
   "id": "e3d10e9c",
   "metadata": {},
   "outputs": [],
   "source": [
    "\n"
   ]
  },
  {
   "cell_type": "code",
   "execution_count": 6,
   "id": "945149e9",
   "metadata": {},
   "outputs": [],
   "source": [
    "my_path = '/Volumes/G-DRIVE mobile USB-C/ft_userdata/user_data/data/binance/BTC_USDT-15m.json'\n"
   ]
  },
  {
   "cell_type": "code",
   "execution_count": null,
   "id": "deccf487",
   "metadata": {},
   "outputs": [],
   "source": [
    "with open(my_path) as f:\n",
    "    data = json.load(f)"
   ]
  },
  {
   "cell_type": "code",
   "execution_count": 7,
   "id": "2b0f4069",
   "metadata": {},
   "outputs": [],
   "source": [
    "df = pd.DataFrame(data, columns = ['Time', 'Open', 'High', 'Low', 'Close', 'Volume'])\n"
   ]
  },
  {
   "cell_type": "code",
   "execution_count": null,
   "id": "4e166eb9",
   "metadata": {},
   "outputs": [],
   "source": []
  },
  {
   "cell_type": "markdown",
   "id": "d1b82561",
   "metadata": {},
   "source": [
    "\n",
    "# Candles Data"
   ]
  },
  {
   "cell_type": "code",
   "execution_count": null,
   "id": "17695550",
   "metadata": {},
   "outputs": [],
   "source": []
  },
  {
   "cell_type": "code",
   "execution_count": null,
   "id": "e5d26886",
   "metadata": {},
   "outputs": [],
   "source": []
  },
  {
   "cell_type": "code",
   "execution_count": null,
   "id": "53f01ca6",
   "metadata": {},
   "outputs": [],
   "source": []
  },
  {
   "cell_type": "code",
   "execution_count": null,
   "id": "9fd7a23a",
   "metadata": {},
   "outputs": [],
   "source": []
  },
  {
   "cell_type": "code",
   "execution_count": null,
   "id": "02d0af35",
   "metadata": {},
   "outputs": [],
   "source": []
  },
  {
   "cell_type": "markdown",
   "id": "34b2298b",
   "metadata": {},
   "source": [
    "# Funding DATA"
   ]
  },
  {
   "cell_type": "code",
   "execution_count": null,
   "id": "1c5ad92c",
   "metadata": {},
   "outputs": [],
   "source": [
    "\n"
   ]
  },
  {
   "cell_type": "code",
   "execution_count": null,
   "id": "a818d959",
   "metadata": {},
   "outputs": [],
   "source": []
  },
  {
   "cell_type": "code",
   "execution_count": 454,
   "id": "f9d2f0b1",
   "metadata": {},
   "outputs": [],
   "source": [
    "fundingdf = pd.DataFrame.from_dict(response)"
   ]
  },
  {
   "cell_type": "code",
   "execution_count": 455,
   "id": "644f547e",
   "metadata": {},
   "outputs": [],
   "source": [
    "fundingdf['fundingTime']= fundingdf['fundingTime'].astype(str).astype(int)"
   ]
  },
  {
   "cell_type": "code",
   "execution_count": 456,
   "id": "2be1bb0e",
   "metadata": {},
   "outputs": [],
   "source": [
    "fundingdf = fundingdf.drop('symbol', axis = 1)"
   ]
  },
  {
   "cell_type": "code",
   "execution_count": null,
   "id": "eb50b650",
   "metadata": {},
   "outputs": [],
   "source": []
  },
  {
   "cell_type": "code",
   "execution_count": 457,
   "id": "b4ec5dfd",
   "metadata": {},
   "outputs": [],
   "source": [
    "fundingdf['fundingTime']= fundingdf['fundingTime'].apply(lambda x: dt.fromtimestamp(x/1000.0))\n"
   ]
  },
  {
   "cell_type": "code",
   "execution_count": 458,
   "id": "23abdd15",
   "metadata": {},
   "outputs": [],
   "source": [
    "fundingdf['fundingTime'] = fundingdf['fundingTime'].dt.strftime('%Y-%m-%d')"
   ]
  },
  {
   "cell_type": "code",
   "execution_count": 459,
   "id": "1ae46d8e",
   "metadata": {},
   "outputs": [],
   "source": [
    "fundingdf = fundingdf.set_index('fundingTime')\n"
   ]
  },
  {
   "cell_type": "code",
   "execution_count": null,
   "id": "02ba58ad",
   "metadata": {},
   "outputs": [],
   "source": []
  },
  {
   "cell_type": "code",
   "execution_count": 464,
   "id": "e47ff037",
   "metadata": {},
   "outputs": [],
   "source": [
    "df1 = pd.merge(df,fundingdf,left_index=True,right_index=True)"
   ]
  },
  {
   "cell_type": "code",
   "execution_count": 465,
   "id": "16e31fba",
   "metadata": {},
   "outputs": [
    {
     "data": {
      "text/html": [
       "<div>\n",
       "<style scoped>\n",
       "    .dataframe tbody tr th:only-of-type {\n",
       "        vertical-align: middle;\n",
       "    }\n",
       "\n",
       "    .dataframe tbody tr th {\n",
       "        vertical-align: top;\n",
       "    }\n",
       "\n",
       "    .dataframe thead th {\n",
       "        text-align: right;\n",
       "    }\n",
       "</style>\n",
       "<table border=\"1\" class=\"dataframe\">\n",
       "  <thead>\n",
       "    <tr style=\"text-align: right;\">\n",
       "      <th></th>\n",
       "      <th>Open</th>\n",
       "      <th>High</th>\n",
       "      <th>Low</th>\n",
       "      <th>Close</th>\n",
       "      <th>Volume</th>\n",
       "      <th>fundingRate</th>\n",
       "    </tr>\n",
       "  </thead>\n",
       "  <tbody>\n",
       "  </tbody>\n",
       "</table>\n",
       "</div>"
      ],
      "text/plain": [
       "Empty DataFrame\n",
       "Columns: [Open, High, Low, Close, Volume, fundingRate]\n",
       "Index: []"
      ]
     },
     "execution_count": 465,
     "metadata": {},
     "output_type": "execute_result"
    }
   ],
   "source": [
    "df1"
   ]
  },
  {
   "cell_type": "code",
   "execution_count": null,
   "id": "58174f08",
   "metadata": {},
   "outputs": [],
   "source": []
  },
  {
   "cell_type": "code",
   "execution_count": null,
   "id": "48303628",
   "metadata": {},
   "outputs": [],
   "source": []
  }
 ],
 "metadata": {
  "kernelspec": {
   "display_name": "Python 3 (ipykernel)",
   "language": "python",
   "name": "python3"
  },
  "language_info": {
   "codemirror_mode": {
    "name": "ipython",
    "version": 3
   },
   "file_extension": ".py",
   "mimetype": "text/x-python",
   "name": "python",
   "nbconvert_exporter": "python",
   "pygments_lexer": "ipython3",
   "version": "3.8.6"
  },
  "toc": {
   "base_numbering": 1,
   "nav_menu": {},
   "number_sections": true,
   "sideBar": true,
   "skip_h1_title": false,
   "title_cell": "Table of Contents",
   "title_sidebar": "Contents",
   "toc_cell": false,
   "toc_position": {},
   "toc_section_display": true,
   "toc_window_display": false
  }
 },
 "nbformat": 4,
 "nbformat_minor": 5
}
