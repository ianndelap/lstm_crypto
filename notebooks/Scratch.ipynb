{
 "cells": [
  {
   "cell_type": "code",
   "execution_count": 2,
   "id": "6ac74c13",
   "metadata": {},
   "outputs": [],
   "source": [
    "import ccxt\n",
    "import pandas as pd\n",
    "from datetime import datetime as dt"
   ]
  },
  {
   "cell_type": "code",
   "execution_count": 5,
   "id": "e3d10e9c",
   "metadata": {},
   "outputs": [],
   "source": [
    "exchange = ccxt.ftx({\n",
    "    'apiKey': API_KEY,\n",
    "    'secret': Secret_key,\n",
    "})\n"
   ]
  },
  {
   "cell_type": "code",
   "execution_count": 4,
   "id": "945149e9",
   "metadata": {},
   "outputs": [],
   "source": [
    "API_KEY = 'DszcTlDUK6XdygwP-Ul8ZfEaQGru2rfdU1D4y3nZ'\n",
    "Secret_key = 'UuiyB7uI5pVraqA9vLDWkQmPyY71MOoef-FfyKGU'\n"
   ]
  },
  {
   "cell_type": "code",
   "execution_count": null,
   "id": "deccf487",
   "metadata": {},
   "outputs": [],
   "source": []
  },
  {
   "cell_type": "code",
   "execution_count": 6,
   "id": "2b0f4069",
   "metadata": {},
   "outputs": [],
   "source": [
    "from_datetime = '2018-01-01 00:00:00'\n",
    "\n",
    "from_timestamp = exchange.parse8601(from_datetime)"
   ]
  },
  {
   "cell_type": "code",
   "execution_count": 32,
   "id": "94f76579",
   "metadata": {},
   "outputs": [
    {
     "ename": "TypeError",
     "evalue": "object list can't be used in 'await' expression",
     "output_type": "error",
     "traceback": [
      "\u001b[0;31m---------------------------------------------------------------------------\u001b[0m",
      "\u001b[0;31mTypeError\u001b[0m                                 Traceback (most recent call last)",
      "\u001b[0;32m/var/folders/99/ckqc944s1nl57yz05vhcmt6w0000gn/T/ipykernel_2820/3584457442.py\u001b[0m in \u001b[0;36m<module>\u001b[0;34m\u001b[0m\n\u001b[1;32m      7\u001b[0m         \u001b[0msymbol\u001b[0m \u001b[0;34m=\u001b[0m \u001b[0;34m'btc/usd'\u001b[0m  \u001b[0;31m# change for your symbol\u001b[0m\u001b[0;34m\u001b[0m\u001b[0;34m\u001b[0m\u001b[0m\n\u001b[1;32m      8\u001b[0m         \u001b[0mlimit\u001b[0m \u001b[0;34m=\u001b[0m \u001b[0;36m4000\u001b[0m  \u001b[0;31m# change for your limit\u001b[0m\u001b[0;34m\u001b[0m\u001b[0;34m\u001b[0m\u001b[0m\n\u001b[0;32m----> 9\u001b[0;31m         \u001b[0morders\u001b[0m \u001b[0;34m=\u001b[0m \u001b[0;32mawait\u001b[0m \u001b[0mexchange\u001b[0m\u001b[0;34m.\u001b[0m\u001b[0mfetch_orders\u001b[0m\u001b[0;34m(\u001b[0m\u001b[0msymbol\u001b[0m\u001b[0;34m,\u001b[0m \u001b[0msince\u001b[0m\u001b[0;34m,\u001b[0m \u001b[0mlimit\u001b[0m\u001b[0;34m)\u001b[0m\u001b[0;34m\u001b[0m\u001b[0;34m\u001b[0m\u001b[0m\n\u001b[0m\u001b[1;32m     10\u001b[0m         \u001b[0;32mif\u001b[0m \u001b[0mlen\u001b[0m\u001b[0;34m(\u001b[0m\u001b[0morders\u001b[0m\u001b[0;34m)\u001b[0m\u001b[0;34m:\u001b[0m\u001b[0;34m\u001b[0m\u001b[0;34m\u001b[0m\u001b[0m\n\u001b[1;32m     11\u001b[0m             \u001b[0msince\u001b[0m \u001b[0;34m=\u001b[0m \u001b[0morders\u001b[0m\u001b[0;34m[\u001b[0m\u001b[0mlen\u001b[0m\u001b[0;34m(\u001b[0m\u001b[0morders\u001b[0m\u001b[0;34m)\u001b[0m \u001b[0;34m-\u001b[0m \u001b[0;36m1\u001b[0m\u001b[0;34m]\u001b[0m\u001b[0;34m[\u001b[0m\u001b[0;34m'timestamp'\u001b[0m\u001b[0;34m]\u001b[0m\u001b[0;34m\u001b[0m\u001b[0;34m\u001b[0m\u001b[0m\n",
      "\u001b[0;31mTypeError\u001b[0m: object list can't be used in 'await' expression"
     ]
    }
   ],
   "source": [
    "if exchange.has['fetchOrders']:\n",
    "    since = exchange.milliseconds () - 86400000  # -1 day from now\n",
    "    # alternatively, fetch from a certain starting datetime\n",
    "    # since = exchange.parse8601('2018-01-01T00:00:00Z')\n",
    "    all_orders = []\n",
    "    while since < exchange.milliseconds ():\n",
    "        symbol = 'btc/usd'  # change for your symbol\n",
    "        limit = 4000  # change for your limit\n",
    "        orders = await exchange.fetch_orders(symbol, since, limit)\n",
    "        if len(orders):\n",
    "            since = orders[len(orders) - 1]['timestamp']\n",
    "            all_orders += orders\n",
    "        else:\n",
    "            break\n"
   ]
  },
  {
   "cell_type": "code",
   "execution_count": null,
   "id": "4e166eb9",
   "metadata": {},
   "outputs": [],
   "source": []
  },
  {
   "cell_type": "markdown",
   "id": "d1b82561",
   "metadata": {},
   "source": [
    "\n",
    "# Candles Data"
   ]
  },
  {
   "cell_type": "code",
   "execution_count": 27,
   "id": "72fbf796",
   "metadata": {},
   "outputs": [],
   "source": [
    "ohlc = exchange.fetch_ohlcv('BTC/USDT', timeframe='1d', since = from_timestamp, limit = 1000)"
   ]
  },
  {
   "cell_type": "code",
   "execution_count": 28,
   "id": "17695550",
   "metadata": {},
   "outputs": [],
   "source": [
    "df = pd.DataFrame(ohlc, columns = ['Time', 'Open', 'High', 'Low', 'Close', 'Volume'])"
   ]
  },
  {
   "cell_type": "code",
   "execution_count": null,
   "id": "e5d26886",
   "metadata": {},
   "outputs": [],
   "source": []
  },
  {
   "cell_type": "code",
   "execution_count": 432,
   "id": "53f01ca6",
   "metadata": {},
   "outputs": [],
   "source": [
    "df['Time']= df[\"Time\"].apply(lambda x: dt.fromtimestamp(x/1000.0))"
   ]
  },
  {
   "cell_type": "code",
   "execution_count": 433,
   "id": "9fd7a23a",
   "metadata": {},
   "outputs": [],
   "source": [
    "df['Time'] = df['Time'].dt.strftime('%Y-%m-%d')"
   ]
  },
  {
   "cell_type": "code",
   "execution_count": 452,
   "id": "02d0af35",
   "metadata": {},
   "outputs": [
    {
     "ename": "KeyError",
     "evalue": "\"None of ['Time'] are in the columns\"",
     "output_type": "error",
     "traceback": [
      "\u001b[0;31m---------------------------------------------------------------------------\u001b[0m",
      "\u001b[0;31mKeyError\u001b[0m                                  Traceback (most recent call last)",
      "\u001b[0;32m/var/folders/99/ckqc944s1nl57yz05vhcmt6w0000gn/T/ipykernel_5300/1694543639.py\u001b[0m in \u001b[0;36m<module>\u001b[0;34m\u001b[0m\n\u001b[0;32m----> 1\u001b[0;31m \u001b[0mdf\u001b[0m \u001b[0;34m=\u001b[0m \u001b[0mdf\u001b[0m\u001b[0;34m.\u001b[0m\u001b[0mset_index\u001b[0m\u001b[0;34m(\u001b[0m\u001b[0;34m'Time'\u001b[0m\u001b[0;34m)\u001b[0m\u001b[0;34m\u001b[0m\u001b[0;34m\u001b[0m\u001b[0m\n\u001b[0m",
      "\u001b[0;32m~/.pyenv/versions/3.8.6/envs/lstm_crypto/lib/python3.8/site-packages/pandas/util/_decorators.py\u001b[0m in \u001b[0;36mwrapper\u001b[0;34m(*args, **kwargs)\u001b[0m\n\u001b[1;32m    309\u001b[0m                     \u001b[0mstacklevel\u001b[0m\u001b[0;34m=\u001b[0m\u001b[0mstacklevel\u001b[0m\u001b[0;34m,\u001b[0m\u001b[0;34m\u001b[0m\u001b[0;34m\u001b[0m\u001b[0m\n\u001b[1;32m    310\u001b[0m                 )\n\u001b[0;32m--> 311\u001b[0;31m             \u001b[0;32mreturn\u001b[0m \u001b[0mfunc\u001b[0m\u001b[0;34m(\u001b[0m\u001b[0;34m*\u001b[0m\u001b[0margs\u001b[0m\u001b[0;34m,\u001b[0m \u001b[0;34m**\u001b[0m\u001b[0mkwargs\u001b[0m\u001b[0;34m)\u001b[0m\u001b[0;34m\u001b[0m\u001b[0;34m\u001b[0m\u001b[0m\n\u001b[0m\u001b[1;32m    312\u001b[0m \u001b[0;34m\u001b[0m\u001b[0m\n\u001b[1;32m    313\u001b[0m         \u001b[0;32mreturn\u001b[0m \u001b[0mwrapper\u001b[0m\u001b[0;34m\u001b[0m\u001b[0;34m\u001b[0m\u001b[0m\n",
      "\u001b[0;32m~/.pyenv/versions/3.8.6/envs/lstm_crypto/lib/python3.8/site-packages/pandas/core/frame.py\u001b[0m in \u001b[0;36mset_index\u001b[0;34m(self, keys, drop, append, inplace, verify_integrity)\u001b[0m\n\u001b[1;32m   5449\u001b[0m \u001b[0;34m\u001b[0m\u001b[0m\n\u001b[1;32m   5450\u001b[0m         \u001b[0;32mif\u001b[0m \u001b[0mmissing\u001b[0m\u001b[0;34m:\u001b[0m\u001b[0;34m\u001b[0m\u001b[0;34m\u001b[0m\u001b[0m\n\u001b[0;32m-> 5451\u001b[0;31m             \u001b[0;32mraise\u001b[0m \u001b[0mKeyError\u001b[0m\u001b[0;34m(\u001b[0m\u001b[0;34mf\"None of {missing} are in the columns\"\u001b[0m\u001b[0;34m)\u001b[0m\u001b[0;34m\u001b[0m\u001b[0;34m\u001b[0m\u001b[0m\n\u001b[0m\u001b[1;32m   5452\u001b[0m \u001b[0;34m\u001b[0m\u001b[0m\n\u001b[1;32m   5453\u001b[0m         \u001b[0;32mif\u001b[0m \u001b[0minplace\u001b[0m\u001b[0;34m:\u001b[0m\u001b[0;34m\u001b[0m\u001b[0;34m\u001b[0m\u001b[0m\n",
      "\u001b[0;31mKeyError\u001b[0m: \"None of ['Time'] are in the columns\""
     ]
    }
   ],
   "source": [
    "df = df.set_index('Time')"
   ]
  },
  {
   "cell_type": "markdown",
   "id": "34b2298b",
   "metadata": {},
   "source": [
    "# Funding DATA"
   ]
  },
  {
   "cell_type": "code",
   "execution_count": 453,
   "id": "1c5ad92c",
   "metadata": {},
   "outputs": [],
   "source": [
    "\n",
    "markets = exchange.load_markets()\n",
    "# exchange.verbose = True  # uncomment for debugging\n",
    "\n",
    "symbol = 'BTC/USDT'\n",
    "market = exchange.market(symbol)\n",
    "\n",
    "response = exchange.fapiPublic_get_fundingrate({\n",
    "    'symbol': market['id'],\n",
    "    'startTime': from_timestamp,  # ms to get funding rate from INCLUSIVE.\n",
    "    # 'endTime': exchange.parse8601('2020-11-26T00:00:00Z'),  # ms to get funding rate until INCLUSIVE.\n",
    "     'limit': 1000,  # default 100, max 1000\n",
    "})\n"
   ]
  },
  {
   "cell_type": "code",
   "execution_count": null,
   "id": "a818d959",
   "metadata": {},
   "outputs": [],
   "source": []
  },
  {
   "cell_type": "code",
   "execution_count": 454,
   "id": "f9d2f0b1",
   "metadata": {},
   "outputs": [],
   "source": [
    "fundingdf = pd.DataFrame.from_dict(response)"
   ]
  },
  {
   "cell_type": "code",
   "execution_count": 455,
   "id": "644f547e",
   "metadata": {},
   "outputs": [],
   "source": [
    "fundingdf['fundingTime']= fundingdf['fundingTime'].astype(str).astype(int)"
   ]
  },
  {
   "cell_type": "code",
   "execution_count": 456,
   "id": "2be1bb0e",
   "metadata": {},
   "outputs": [],
   "source": [
    "fundingdf = fundingdf.drop('symbol', axis = 1)"
   ]
  },
  {
   "cell_type": "code",
   "execution_count": null,
   "id": "eb50b650",
   "metadata": {},
   "outputs": [],
   "source": []
  },
  {
   "cell_type": "code",
   "execution_count": 457,
   "id": "b4ec5dfd",
   "metadata": {},
   "outputs": [],
   "source": [
    "fundingdf['fundingTime']= fundingdf['fundingTime'].apply(lambda x: dt.fromtimestamp(x/1000.0))\n"
   ]
  },
  {
   "cell_type": "code",
   "execution_count": 458,
   "id": "23abdd15",
   "metadata": {},
   "outputs": [],
   "source": [
    "fundingdf['fundingTime'] = fundingdf['fundingTime'].dt.strftime('%Y-%m-%d')"
   ]
  },
  {
   "cell_type": "code",
   "execution_count": 459,
   "id": "1ae46d8e",
   "metadata": {},
   "outputs": [],
   "source": [
    "fundingdf = fundingdf.set_index('fundingTime')\n"
   ]
  },
  {
   "cell_type": "code",
   "execution_count": null,
   "id": "02ba58ad",
   "metadata": {},
   "outputs": [],
   "source": []
  },
  {
   "cell_type": "code",
   "execution_count": 464,
   "id": "e47ff037",
   "metadata": {},
   "outputs": [],
   "source": [
    "df1 = pd.merge(df,fundingdf,left_index=True,right_index=True)"
   ]
  },
  {
   "cell_type": "code",
   "execution_count": 465,
   "id": "16e31fba",
   "metadata": {},
   "outputs": [
    {
     "data": {
      "text/html": [
       "<div>\n",
       "<style scoped>\n",
       "    .dataframe tbody tr th:only-of-type {\n",
       "        vertical-align: middle;\n",
       "    }\n",
       "\n",
       "    .dataframe tbody tr th {\n",
       "        vertical-align: top;\n",
       "    }\n",
       "\n",
       "    .dataframe thead th {\n",
       "        text-align: right;\n",
       "    }\n",
       "</style>\n",
       "<table border=\"1\" class=\"dataframe\">\n",
       "  <thead>\n",
       "    <tr style=\"text-align: right;\">\n",
       "      <th></th>\n",
       "      <th>Open</th>\n",
       "      <th>High</th>\n",
       "      <th>Low</th>\n",
       "      <th>Close</th>\n",
       "      <th>Volume</th>\n",
       "      <th>fundingRate</th>\n",
       "    </tr>\n",
       "  </thead>\n",
       "  <tbody>\n",
       "  </tbody>\n",
       "</table>\n",
       "</div>"
      ],
      "text/plain": [
       "Empty DataFrame\n",
       "Columns: [Open, High, Low, Close, Volume, fundingRate]\n",
       "Index: []"
      ]
     },
     "execution_count": 465,
     "metadata": {},
     "output_type": "execute_result"
    }
   ],
   "source": [
    "df1"
   ]
  },
  {
   "cell_type": "code",
   "execution_count": null,
   "id": "58174f08",
   "metadata": {},
   "outputs": [],
   "source": []
  },
  {
   "cell_type": "code",
   "execution_count": null,
   "id": "48303628",
   "metadata": {},
   "outputs": [],
   "source": []
  }
 ],
 "metadata": {
  "kernelspec": {
   "display_name": "Python 3 (ipykernel)",
   "language": "python",
   "name": "python3"
  },
  "language_info": {
   "codemirror_mode": {
    "name": "ipython",
    "version": 3
   },
   "file_extension": ".py",
   "mimetype": "text/x-python",
   "name": "python",
   "nbconvert_exporter": "python",
   "pygments_lexer": "ipython3",
   "version": "3.8.6"
  },
  "toc": {
   "base_numbering": 1,
   "nav_menu": {},
   "number_sections": true,
   "sideBar": true,
   "skip_h1_title": false,
   "title_cell": "Table of Contents",
   "title_sidebar": "Contents",
   "toc_cell": false,
   "toc_position": {},
   "toc_section_display": true,
   "toc_window_display": false
  }
 },
 "nbformat": 4,
 "nbformat_minor": 5
}
